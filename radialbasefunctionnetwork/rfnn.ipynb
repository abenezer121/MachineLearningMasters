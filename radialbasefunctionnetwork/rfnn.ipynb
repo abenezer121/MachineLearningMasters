{
 "cells": [
  {
   "cell_type": "code",
   "execution_count": 1,
   "metadata": {},
   "outputs": [],
   "source": [
    "import torch\n",
    "import torch.nn as nn"
   ]
  },
  {
   "cell_type": "code",
   "execution_count": 6,
   "metadata": {},
   "outputs": [],
   "source": [
    "class RBF(nn.Module):\n",
    "    def __init__(self, num_inputs, num_outputs, num_centers, sigma):\n",
    "        super(RBF, self).__init__()\n",
    "        self.num_inputs = num_inputs\n",
    "        self.num_outputs = num_outputs\n",
    "        self.num_centers = num_centers\n",
    "        self.sigma = sigma\n",
    "\n",
    "        # Initialize the centers randomly\n",
    "        self.centers = nn.Parameter(torch.randn(num_centers, num_inputs))\n",
    "        self.weights = nn.Parameter(torch.randn(num_centers, num_outputs))\n",
    "      \n",
    "\n",
    "    def forward(self, x):\n",
    "        # Calculate the distances between the input and the centers\n",
    "        dists = torch.sum((x.unsqueeze(1) - self.centers)**2, dim=2)\n",
    "\n",
    "        # Apply the RBF function to the distances\n",
    "        rbf = torch.exp(-dists / (2 * self.sigma**2))\n",
    "\n",
    "        # Perform the linear combination\n",
    "        out = torch.mm(rbf, self.weights) \n",
    "        return out\n"
   ]
  },
  {
   "cell_type": "code",
   "execution_count": 7,
   "metadata": {},
   "outputs": [],
   "source": [
    "# Define the number of inputs, outputs, centers, and the sigma parameter\n",
    "num_inputs = 2\n",
    "num_outputs = 1\n",
    "num_centers = 3\n",
    "sigma = 0.1\n",
    "# Create the model\n",
    "model = RBF(num_inputs, num_outputs, num_centers, sigma)\n",
    "# Create some fake input and output data\n",
    "inputs = torch.randn(4, num_inputs)\n",
    "outputs = torch.randn(4, num_outputs)\n",
    "# Set the model to training mode\n",
    "model.train()\n",
    "# Define a loss function and optimizer\n",
    "loss_fn = nn.MSELoss()\n",
    "optimizer = torch.optim.SGD(model.parameters(), lr=0.1)\n",
    "# Train the model\n",
    "for i in range(100):\n",
    "    # Forward pass\n",
    "    predictions = model(inputs)\n",
    "    loss = loss_fn(predictions, outputs)\n",
    "\n",
    "    # Backward pass\n",
    "    optimizer.zero_grad()\n",
    "    loss.backward()\n",
    "   \n",
    "    # Update the parameters\n",
    "    optimizer.step()\n",
    "\n",
    "# Set the model to evaluation mode\n",
    "model.eval()\n",
    "\n",
    "# Test the model\n",
    "with torch.no_grad():\n",
    "    test_inputs = torch.randn(4, num_inputs)\n",
    "    test_predictions = model(test_inputs)\n"
   ]
  }
 ],
 "metadata": {
  "kernelspec": {
   "display_name": "Python 3",
   "language": "python",
   "name": "python3"
  },
  "language_info": {
   "codemirror_mode": {
    "name": "ipython",
    "version": 3
   },
   "file_extension": ".py",
   "mimetype": "text/x-python",
   "name": "python",
   "nbconvert_exporter": "python",
   "pygments_lexer": "ipython3",
   "version": "3.10.9"
  },
  "orig_nbformat": 4,
  "vscode": {
   "interpreter": {
    "hash": "18f0882e5f0f8740401558c89fc43548a62fa9f6076a78a15cefbdc4cb859f81"
   }
  }
 },
 "nbformat": 4,
 "nbformat_minor": 2
}
