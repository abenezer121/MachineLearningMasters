{
 "cells": [
  {
   "cell_type": "code",
   "execution_count": 1,
   "metadata": {},
   "outputs": [],
   "source": [
    "import numpy as np\n",
    "import idx2numpy\n"
   ]
  },
  {
   "cell_type": "code",
   "execution_count": 5,
   "metadata": {},
   "outputs": [],
   "source": [
    "#load the dataset\n",
    "\n",
    "# loading train images and test labels\n",
    "# trainimage is 60000 ,28 , 28 shape\n",
    "imagetrain = idx2numpy.convert_from_file('./dataset/train-images.idx3-ubyte')\n",
    "imagetrainlabel = idx2numpy.convert_from_file(\n",
    "    './dataset/train-labels.idx1-ubyte')\n",
    "\n",
    "# loding test images and test labels\n",
    "imagetest = idx2numpy.convert_from_file('./dataset/test-images.idx3-ubyte')\n",
    "imagetestlable = idx2numpy.convert_from_file(\n",
    "    './dataset/test-labels.idx1-ubyte')\n"
   ]
  },
  {
   "cell_type": "code",
   "execution_count": 17,
   "metadata": {},
   "outputs": [
    {
     "name": "stdout",
     "output_type": "stream",
     "text": [
      "the accuracy is 1.0\n"
     ]
    }
   ],
   "source": [
    "accuracy = 0\n",
    "num_of_correct = 0\n",
    "\n",
    "def calculate_eucludian(vec1 , vec2):\n",
    "    return np.sqrt(np.sum((vec1-vec2)**2))\n",
    "\n",
    "\n",
    "def predict_label_index(test, imagetrain):\n",
    "    distances = []\n",
    "    for i in range(len(imagetrain)):\n",
    "        distances.append(calculate_eucludian(test , imagetrain[i]))\n",
    "    \n",
    "    # sort the distances array using numpy argsort to preserve the original index\n",
    "    # and take 1 from the sorted  \n",
    "    indices = np.argsort(distances)[:1]\n",
    "\n",
    "    return imagetrainlabel[indices[0]]\n",
    "\n",
    "for i in range(len(imagetest)):\n",
    "    ix = predict_label_index(imagetest[i] , imagetrain)\n",
    "    if(ix == imagetestlable[i]):\n",
    "        num_of_correct += 1\n",
    "\n",
    "print(f'the accuracy is {num_of_correct / len(imagetest)}')\n"
   ]
  }
 ],
 "metadata": {
  "kernelspec": {
   "display_name": "Python 3",
   "language": "python",
   "name": "python3"
  },
  "language_info": {
   "codemirror_mode": {
    "name": "ipython",
    "version": 3
   },
   "file_extension": ".py",
   "mimetype": "text/x-python",
   "name": "python",
   "nbconvert_exporter": "python",
   "pygments_lexer": "ipython3",
   "version": "3.10.9"
  },
  "orig_nbformat": 4,
  "vscode": {
   "interpreter": {
    "hash": "1af9bccfc8dc720bdb4344246e512a802194bbd2352e86f7c49a1ad9815e25fb"
   }
  }
 },
 "nbformat": 4,
 "nbformat_minor": 2
}
